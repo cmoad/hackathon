{
 "cells": [
  {
   "cell_type": "code",
   "execution_count": 97,
   "metadata": {
    "collapsed": false
   },
   "outputs": [
    {
     "name": "stdout",
     "output_type": "stream",
     "text": [
      "[nltk_data] Downloading package stopwords to\n",
      "[nltk_data]     C:\\Users\\Charlie\\AppData\\Roaming\\nltk_data...\n",
      "[nltk_data]   Package stopwords is already up-to-date!\n"
     ]
    }
   ],
   "source": [
    "import json, gzip, datetime, matplotlib.pyplot as plt, nltk, nltk.corpus, itertools\n",
    "nltk.download('stopwords')\n",
    "%matplotlib inline"
   ]
  },
  {
   "cell_type": "markdown",
   "metadata": {},
   "source": [
    "## Posts within 24 hours and 10 miles radius"
   ]
  },
  {
   "cell_type": "code",
   "execution_count": 63,
   "metadata": {
    "collapsed": true
   },
   "outputs": [],
   "source": [
    "docsOR = [json.loads(line) for line in gzip.open('data/oregon-shooting.json.gz')]\n",
    "docsPope = [json.loads(line) for line in gzip.open('data/pope-visit-dc.json.gz')]"
   ]
  },
  {
   "cell_type": "code",
   "execution_count": 64,
   "metadata": {
    "collapsed": false
   },
   "outputs": [
    {
     "data": {
      "image/png": "[encoded data removed]",
      "text/plain": [
       "<matplotlib.figure.Figure at 0x3dda65f0>"
      ]
     },
     "metadata": {},
     "output_type": "display_data"
    }
   ],
   "source": [
    "plt.figure(figsize=(16,5))\n",
    "plt.subplot(121)\n",
    "barsA = plt.hist([datetime.datetime.fromtimestamp(long(doc['timestamp_ms'])/1000.0) for doc in docsOR], bins=24)\n",
    "titleA = plt.title('Oregon Shooting Posts / Hour')\n",
    "plt.subplot(122)\n",
    "barsB = plt.hist([datetime.datetime.fromtimestamp(long(doc['timestamp_ms'])/1000.0) for doc in docsPope], bins=24)\n",
    "titleB = plt.title('Pope Visit Posts / Hour')"
   ]
  },
  {
   "cell_type": "markdown",
   "metadata": {},
   "source": [
    "## A comparison of word freqencies in our training and test sets"
   ]
  },
  {
   "cell_type": "code",
   "execution_count": 92,
   "metadata": {
    "collapsed": false
   },
   "outputs": [
    {
     "data": {
      "text/plain": [
       "[(u'#uccshooting', 26),\n",
       " (u\"i'm\", 24),\n",
       " (u'fox', 14),\n",
       " (u'producer', 12),\n",
       " (u'people', 12),\n",
       " (u'glad', 11),\n",
       " (u'please', 11),\n",
       " (u'everyone', 10),\n",
       " (u\"can't\", 10),\n",
       " (u'news.', 10)]"
      ]
     },
     "execution_count": 92,
     "metadata": {},
     "output_type": "execute_result"
    }
   ],
   "source": [
    "docsTrain = [json.loads(line) for line in gzip.open('data/train.json.gz')]\n",
    "stopwords = nltk.corpus.stopwords.words('english')\n",
    "words = [w.lower() for w in itertools.chain(*[doc['text'].split() for doc in docsTrain]) if w.lower() not in stopwords]\n",
    "fdist = nltk.FreqDist(words)\n",
    "fdist.most_common(10)"
   ]
  },
  {
   "cell_type": "code",
   "execution_count": 93,
   "metadata": {
    "collapsed": false
   },
   "outputs": [
    {
     "data": {
      "text/plain": [
       "[(u'#uccshooting', 33),\n",
       " (u\"i'm\", 30),\n",
       " (u'please', 26),\n",
       " (u'community', 20),\n",
       " (u'people', 19),\n",
       " (u'love', 17),\n",
       " (u'fox', 16),\n",
       " (u'go', 15),\n",
       " (u'producer', 15),\n",
       " (u'umpqua', 14)]"
      ]
     },
     "execution_count": 93,
     "metadata": {},
     "output_type": "execute_result"
    }
   ],
   "source": [
    "docsTest = [json.loads(line) for line in gzip.open('data/test.json.gz')]\n",
    "words = [w.lower() for w in itertools.chain(*[doc['text'].split() for doc in docsTest]) if w.lower() not in stopwords]\n",
    "fdist = nltk.FreqDist(words)\n",
    "fdist.most_common(10)"
   ]
  },
  {
   "cell_type": "markdown",
   "metadata": {},
   "source": [
    "## A simple classifier based on word count"
   ]
  },
  {
   "cell_type": "code",
   "execution_count": 146,
   "metadata": {
    "collapsed": false
   },
   "outputs": [],
   "source": [
    "def relevance_features(doc):\n",
    "    return {'word_count': len(doc['text'].split())}\n",
    "\n",
    "# Load our training set and create a dictionary of the training posts\n",
    "labeled_ids = json.load(open('data/train-set.json', 'r'))\n",
    "docsTrainDict = {}\n",
    "for doc in docsTrain: docsTrainDict[doc['id']] = doc\n",
    "\n",
    "featuresets = [(relevance_features(docsTrainDict[doc_id]), relevance) for (doc_id, relevance) in labeled_ids]\n",
    "train_set, test_set = featuresets[:100], featuresets[100:]\n",
    "classifier = nltk.NaiveBayesClassifier.train(train_set)"
   ]
  },
  {
   "cell_type": "code",
   "execution_count": 147,
   "metadata": {
    "collapsed": false
   },
   "outputs": [
    {
     "data": {
      "text/plain": [
       "u'unrelated'"
      ]
     },
     "execution_count": 147,
     "metadata": {},
     "output_type": "execute_result"
    }
   ],
   "source": [
    "classifier.classify(relevance_features({'text': 'Short post text'}))"
   ]
  },
  {
   "cell_type": "code",
   "execution_count": 151,
   "metadata": {
    "collapsed": false
   },
   "outputs": [
    {
     "data": {
      "text/plain": [
       "[u'unrelated',\n",
       " u'unrelated',\n",
       " u'unrelated',\n",
       " u'unrelated',\n",
       " u'unrelated',\n",
       " u'unrelated',\n",
       " u'unrelated',\n",
       " u'unrelated',\n",
       " u'unrelated',\n",
       " u'related',\n",
       " u'unrelated',\n",
       " u'unrelated',\n",
       " u'related',\n",
       " u'unrelated',\n",
       " u'unrelated',\n",
       " u'unrelated',\n",
       " u'unrelated',\n",
       " u'related',\n",
       " u'related',\n",
       " u'unrelated',\n",
       " u'unrelated',\n",
       " u'unrelated',\n",
       " u'related',\n",
       " u'related',\n",
       " u'related']"
      ]
     },
     "execution_count": 151,
     "metadata": {},
     "output_type": "execute_result"
    }
   ],
   "source": [
    "[classifier.classify({'word_count': x}) for x in xrange(25)]"
   ]
  },
  {
   "cell_type": "code",
   "execution_count": 153,
   "metadata": {
    "collapsed": false
   },
   "outputs": [
    {
     "name": "stdout",
     "output_type": "stream",
     "text": [
      "Most Informative Features\n",
      "              word_count = 22             relate : unrela =      3.3 : 1.0\n",
      "              word_count = 15             unrela : relate =      3.0 : 1.0\n",
      "              word_count = 6              unrela : relate =      2.6 : 1.0\n",
      "              word_count = 17             relate : unrela =      2.6 : 1.0\n",
      "              word_count = 9              relate : unrela =      2.4 : 1.0\n",
      "              word_count = 18             relate : unrela =      2.4 : 1.0\n",
      "              word_count = 23             relate : unrela =      2.4 : 1.0\n",
      "              word_count = 4              unrela : relate =      2.1 : 1.0\n",
      "              word_count = 12             relate : unrela =      1.8 : 1.0\n",
      "              word_count = 14             unrela : relate =      1.6 : 1.0\n"
     ]
    }
   ],
   "source": [
    "classifier.show_most_informative_features(10)"
   ]
  },
  {
   "cell_type": "code",
   "execution_count": 155,
   "metadata": {
    "collapsed": false
   },
   "outputs": [
    {
     "data": {
      "text/plain": [
       "0.65"
      ]
     },
     "execution_count": 155,
     "metadata": {},
     "output_type": "execute_result"
    }
   ],
   "source": [
    "nltk.classify.accuracy(classifier, test_set)"
   ]
  },
  {
   "cell_type": "markdown",
   "metadata": {},
   "source": [
    "## Stacking many classifiers"
   ]
  },
  {
   "cell_type": "code",
   "execution_count": 171,
   "metadata": {
    "collapsed": false
   },
   "outputs": [],
   "source": [
    "def relevance_features(doc):\n",
    "    return {\n",
    "        'word_count': len(doc['text'].split()),\n",
    "        'has_hashtag': len(doc['entities']['hashtags']) > 0,\n",
    "        'is_reply': bool(doc['in_reply_to_user_id']),\n",
    "        'hour_posted': datetime.datetime.fromtimestamp(long(doc['timestamp_ms'])/1000.0).hour,\n",
    "    }\n",
    "\n",
    "featuresets = [(relevance_features(docsTrainDict[doc_id]), relevance) for (doc_id, relevance) in labeled_ids]\n",
    "train_set, test_set = featuresets[:100], featuresets[100:]\n",
    "classifier = nltk.NaiveBayesClassifier.train(train_set)"
   ]
  },
  {
   "cell_type": "code",
   "execution_count": 172,
   "metadata": {
    "collapsed": false
   },
   "outputs": [
    {
     "name": "stdout",
     "output_type": "stream",
     "text": [
      "Most Informative Features\n",
      "             has_hashtag = True           relate : unrela =      3.9 : 1.0\n",
      "             hour_posted = 17             relate : unrela =      3.8 : 1.0\n",
      "                is_reply = True           unrela : relate =      3.7 : 1.0\n",
      "             hour_posted = 1              relate : unrela =      3.4 : 1.0\n",
      "              word_count = 22             relate : unrela =      3.3 : 1.0\n",
      "              word_count = 15             unrela : relate =      3.0 : 1.0\n",
      "              word_count = 6              unrela : relate =      2.6 : 1.0\n",
      "              word_count = 17             relate : unrela =      2.6 : 1.0\n",
      "             hour_posted = 18             unrela : relate =      2.5 : 1.0\n",
      "             hour_posted = 2              relate : unrela =      2.5 : 1.0\n"
     ]
    }
   ],
   "source": [
    "classifier.show_most_informative_features(10)"
   ]
  },
  {
   "cell_type": "code",
   "execution_count": 173,
   "metadata": {
    "collapsed": false
   },
   "outputs": [
    {
     "data": {
      "text/plain": [
       "0.77"
      ]
     },
     "execution_count": 173,
     "metadata": {},
     "output_type": "execute_result"
    }
   ],
   "source": [
    "nltk.classify.accuracy(classifier, test_set)"
   ]
  },
  {
   "cell_type": "code",
   "execution_count": null,
   "metadata": {
    "collapsed": true
   },
   "outputs": [],
   "source": []
  }
 ],
 "metadata": {
  "kernelspec": {
   "display_name": "Python 2",
   "language": "python",
   "name": "python2"
  },
  "language_info": {
   "codemirror_mode": {
    "name": "ipython",
    "version": 2
   },
   "file_extension": ".py",
   "mimetype": "text/x-python",
   "name": "python",
   "nbconvert_exporter": "python",
   "pygments_lexer": "ipython2",
   "version": "2.7.10"
  }
 },
 "nbformat": 4,
 "nbformat_minor": 0
}
