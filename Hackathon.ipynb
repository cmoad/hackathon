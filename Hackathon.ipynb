{
 "cells": [
  {
   "cell_type": "code",
   "execution_count": 97,
   "metadata": {
    "collapsed": false
   },
   "outputs": [
    {
     "name": "stdout",
     "output_type": "stream",
     "text": [
      "[nltk_data] Downloading package stopwords to\n",
      "[nltk_data]     C:\\Users\\Charlie\\AppData\\Roaming\\nltk_data...\n",
      "[nltk_data]   Package stopwords is already up-to-date!\n"
     ]
    }
   ],
   "source": [
    "import json, gzip, datetime, matplotlib.pyplot as plt, nltk, nltk.corpus, itertools\n",
    "nltk.download('stopwords')\n",
    "%matplotlib inline"
   ]
  },
  {
   "cell_type": "markdown",
   "metadata": {},
   "source": [
    "## Posts within 24 hours and 10 miles radius"
   ]
  },
  {
   "cell_type": "code",
   "execution_count": 63,
   "metadata": {
    "collapsed": true
   },
   "outputs": [],
   "source": [
    "docsOR = [json.loads(line) for line in gzip.open('data/oregon-shooting.json.gz')]\n",
    "docsPope = [json.loads(line) for line in gzip.open('data/pope-visit-dc.json.gz')]"
   ]
  },
  {
   "cell_type": "code",
   "execution_count": 64,
   "metadata": {
    "collapsed": false
   },
   "outputs": [
    {
     "data": {
      "image/png": "[encoded data removed]",
      "text/plain": [
       "<matplotlib.figure.Figure at 0x3dda65f0>"
      ]
     },
     "metadata": {},
     "output_type": "display_data"
    }
   ],
   "source": [
    "plt.figure(figsize=(16,5))\n",
    "plt.subplot(121)\n",
    "barsA = plt.hist([datetime.datetime.fromtimestamp(long(doc['timestamp_ms'])/1000.0) for doc in docsOR], bins=24)\n",
    "titleA = plt.title('Oregon Shooting Posts / Hour')\n",
    "plt.subplot(122)\n",
    "barsB = plt.hist([datetime.datetime.fromtimestamp(long(doc['timestamp_ms'])/1000.0) for doc in docsPope], bins=24)\n",
    "titleB = plt.title('Pope Visit Posts / Hour')"
   ]
  },
  {
   "cell_type": "markdown",
   "metadata": {},
   "source": [
    "## A comparison of word freqencies in our training and test sets"
   ]
  },
  {
   "cell_type": "code",
   "execution_count": 92,
   "metadata": {
    "collapsed": false
   },
   "outputs": [
    {
     "data": {
      "text/plain": [
       "[(u'#uccshooting', 26),\n",
       " (u\"i'm\", 24),\n",
       " (u'fox', 14),\n",
       " (u'producer', 12),\n",
       " (u'people', 12),\n",
       " (u'glad', 11),\n",
       " (u'please', 11),\n",
       " (u'everyone', 10),\n",
       " (u\"can't\", 10),\n",
       " (u'news.', 10)]"
      ]
     },
     "execution_count": 92,
     "metadata": {},
     "output_type": "execute_result"
    }
   ],
   "source": [
    "docsTrain = [json.loads(line) for line in gzip.open('data/train.json.gz')]\n",
    "stopwords = nltk.corpus.stopwords.words('english')\n",
    "words = [w.lower() for w in itertools.chain(*[doc['text'].split() for doc in docsTrain]) if w.lower() not in stopwords]\n",
    "fdist = nltk.FreqDist(words)\n",
    "fdist.most_common(10)"
   ]
  },
  {
   "cell_type": "code",
   "execution_count": 93,
   "metadata": {
    "collapsed": false
   },
   "outputs": [
    {
     "data": {
      "text/plain": [
       "[(u'#uccshooting', 33),\n",
       " (u\"i'm\", 30),\n",
       " (u'please', 26),\n",
       " (u'community', 20),\n",
       " (u'people', 19),\n",
       " (u'love', 17),\n",
       " (u'fox', 16),\n",
       " (u'go', 15),\n",
       " (u'producer', 15),\n",
       " (u'umpqua', 14)]"
      ]
     },
     "execution_count": 93,
     "metadata": {},
     "output_type": "execute_result"
    }
   ],
   "source": [
    "docsTest = [json.loads(line) for line in gzip.open('data/test.json.gz')]\n",
    "words = [w.lower() for w in itertools.chain(*[doc['text'].split() for doc in docsTest]) if w.lower() not in stopwords]\n",
    "fdist = nltk.FreqDist(words)\n",
    "fdist.most_common(10)"
   ]
  },
  {
   "cell_type": "markdown",
   "metadata": {},
   "source": [
    "## A simple classifier based on word count"
   ]
  },
  {
   "cell_type": "code",
   "execution_count": 258,
   "metadata": {
    "collapsed": false
   },
   "outputs": [
    {
     "name": "stdout",
     "output_type": "stream",
     "text": [
      "Most Informative Features\n",
      "              word_count = 22             relate : unrela =      3.3 : 1.0\n",
      "              word_count = 15             unrela : relate =      3.0 : 1.0\n",
      "              word_count = 6              unrela : relate =      2.6 : 1.0\n",
      "              word_count = 17             relate : unrela =      2.6 : 1.0\n",
      "              word_count = 9              relate : unrela =      2.4 : 1.0\n",
      "              word_count = 18             relate : unrela =      2.4 : 1.0\n",
      "              word_count = 23             relate : unrela =      2.4 : 1.0\n",
      "              word_count = 4              unrela : relate =      2.1 : 1.0\n",
      "              word_count = 12             relate : unrela =      1.8 : 1.0\n",
      "              word_count = 14             unrela : relate =      1.6 : 1.0\n"
     ]
    }
   ],
   "source": [
    "def relevance_features(doc):\n",
    "    return {'word_count': len(doc['text'].split())}\n",
    "\n",
    "# Load our training set and create a dictionary of the training posts\n",
    "labeled_ids = json.load(open('data/train-set.json', 'r'))\n",
    "docsTrainDict = {}\n",
    "for doc in docsTrain: docsTrainDict[doc['id']] = doc\n",
    "\n",
    "featuresets = [(relevance_features(docsTrainDict[doc_id]), relevance) for (doc_id, relevance) in labeled_ids]\n",
    "train_set, test_set = featuresets[:100], featuresets[100:]\n",
    "classifier = nltk.NaiveBayesClassifier.train(train_set)\n",
    "\n",
    "classifier.show_most_informative_features(10)"
   ]
  },
  {
   "cell_type": "code",
   "execution_count": 259,
   "metadata": {
    "collapsed": false
   },
   "outputs": [
    {
     "data": {
      "text/plain": [
       "[(1, u'unrelated'),\n",
       " (2, u'unrelated'),\n",
       " (3, u'unrelated'),\n",
       " (4, u'unrelated'),\n",
       " (5, u'unrelated'),\n",
       " (6, u'unrelated'),\n",
       " (7, u'unrelated'),\n",
       " (8, u'unrelated'),\n",
       " (9, u'related'),\n",
       " (10, u'unrelated'),\n",
       " (11, u'unrelated'),\n",
       " (12, u'related'),\n",
       " (13, u'unrelated'),\n",
       " (14, u'unrelated'),\n",
       " (15, u'unrelated'),\n",
       " (16, u'unrelated'),\n",
       " (17, u'related'),\n",
       " (18, u'related'),\n",
       " (19, u'unrelated'),\n",
       " (20, u'unrelated'),\n",
       " (21, u'unrelated'),\n",
       " (22, u'related'),\n",
       " (23, u'related'),\n",
       " (24, u'related')]"
      ]
     },
     "execution_count": 259,
     "metadata": {},
     "output_type": "execute_result"
    }
   ],
   "source": [
    "[(x, classifier.classify({'word_count': x})) for x in xrange(1, 25)]"
   ]
  },
  {
   "cell_type": "code",
   "execution_count": 260,
   "metadata": {
    "collapsed": false
   },
   "outputs": [
    {
     "data": {
      "text/plain": [
       "0.65"
      ]
     },
     "execution_count": 260,
     "metadata": {},
     "output_type": "execute_result"
    }
   ],
   "source": [
    "nltk.classify.accuracy(classifier, test_set)"
   ]
  },
  {
   "cell_type": "code",
   "execution_count": 261,
   "metadata": {
    "collapsed": false
   },
   "outputs": [
    {
     "name": "stdout",
     "output_type": "stream",
     "text": [
      "Most Informative Features\n",
      "          word_count_gt8 = False          unrela : relate =      1.7 : 1.0\n",
      "          word_count_gt8 = True           relate : unrela =      1.3 : 1.0\n"
     ]
    }
   ],
   "source": [
    "def relevance_features(doc):\n",
    "    return {'word_count_gt8': len(doc['text'].split()) > 8}\n",
    "\n",
    "featuresets = [(relevance_features(docsTrainDict[doc_id]), relevance) for (doc_id, relevance) in labeled_ids]\n",
    "train_set, test_set = featuresets[:100], featuresets[100:]\n",
    "classifier = nltk.NaiveBayesClassifier.train(train_set)\n",
    "\n",
    "classifier.show_most_informative_features(10)"
   ]
  },
  {
   "cell_type": "code",
   "execution_count": 262,
   "metadata": {
    "collapsed": false
   },
   "outputs": [
    {
     "data": {
      "text/plain": [
       "0.85"
      ]
     },
     "execution_count": 262,
     "metadata": {},
     "output_type": "execute_result"
    }
   ],
   "source": [
    "nltk.classify.accuracy(classifier, test_set)"
   ]
  },
  {
   "cell_type": "markdown",
   "metadata": {},
   "source": [
    "## Stacking many classifiers"
   ]
  },
  {
   "cell_type": "code",
   "execution_count": 387,
   "metadata": {
    "collapsed": false
   },
   "outputs": [
    {
     "name": "stdout",
     "output_type": "stream",
     "text": [
      "Most Informative Features\n",
      "             has_hashtag = True           relate : unrela =      3.9 : 1.0\n",
      "             hour_posted = 17             relate : unrela =      3.8 : 1.0\n",
      "                is_reply = True           unrela : relate =      3.7 : 1.0\n",
      "             hour_posted = 1              relate : unrela =      3.4 : 1.0\n",
      "             hour_posted = 18             unrela : relate =      2.5 : 1.0\n"
     ]
    }
   ],
   "source": [
    "def relevance_features(doc):\n",
    "    return {\n",
    "        'word_count_gt8': len(doc['text'].split()) > 8,\n",
    "        'has_hashtag': len(doc['entities']['hashtags']) > 0,\n",
    "        'is_reply': bool(doc['in_reply_to_user_id']),\n",
    "        'hour_posted': datetime.datetime.fromtimestamp(long(doc['timestamp_ms'])/1000.0).hour,\n",
    "    }\n",
    "\n",
    "featuresets = [(relevance_features(docsTrainDict[doc_id]), relevance) for (doc_id, relevance) in labeled_ids]\n",
    "train_set, test_set = featuresets[:100], featuresets[100:]\n",
    "classifier = nltk.NaiveBayesClassifier.train(train_set)\n",
    "\n",
    "classifier.show_most_informative_features(5)"
   ]
  },
  {
   "cell_type": "code",
   "execution_count": 388,
   "metadata": {
    "collapsed": false
   },
   "outputs": [
    {
     "data": {
      "text/plain": [
       "0.75"
      ]
     },
     "execution_count": 388,
     "metadata": {},
     "output_type": "execute_result"
    }
   ],
   "source": [
    "# Hour posted causes overfitting and reduces accuracy\n",
    "nltk.classify.accuracy(classifier, test_set)"
   ]
  },
  {
   "cell_type": "code",
   "execution_count": 400,
   "metadata": {
    "collapsed": false
   },
   "outputs": [
    {
     "name": "stdout",
     "output_type": "stream",
     "text": [
      "Most Informative Features\n",
      "             has_hashtag = True           relate : unrela =      3.9 : 1.0\n",
      "                is_reply = True           unrela : relate =      3.7 : 1.0\n",
      "                is_reply = False          relate : unrela =      1.8 : 1.0\n",
      "          word_count_gt8 = False          unrela : relate =      1.7 : 1.0\n",
      "             has_hashtag = False          unrela : relate =      1.5 : 1.0\n"
     ]
    }
   ],
   "source": [
    "def relevance_features(doc):\n",
    "    return {\n",
    "        'word_count_gt8': len(doc['text'].split()) > 8,\n",
    "        'has_hashtag': len(doc['entities']['hashtags']) > 0,\n",
    "        'is_reply': bool(doc['in_reply_to_user_id']),\n",
    "    }\n",
    "\n",
    "featuresets = [(relevance_features(docsTrainDict[doc_id]), relevance) for (doc_id, relevance) in labeled_ids]\n",
    "train_set, test_set = featuresets[:100], featuresets[100:]\n",
    "classifier = nltk.NaiveBayesClassifier.train(train_set)\n",
    "\n",
    "classifier.show_most_informative_features(5)"
   ]
  },
  {
   "cell_type": "code",
   "execution_count": 401,
   "metadata": {
    "collapsed": false
   },
   "outputs": [
    {
     "data": {
      "text/plain": [
       "0.91"
      ]
     },
     "execution_count": 401,
     "metadata": {},
     "output_type": "execute_result"
    }
   ],
   "source": [
    "nltk.classify.accuracy(classifier, test_set)"
   ]
  },
  {
   "cell_type": "code",
   "execution_count": 402,
   "metadata": {
    "collapsed": false
   },
   "outputs": [
    {
     "data": {
      "image/png": "[encoded data removed]",
      "text/plain": [
       "<matplotlib.figure.Figure at 0x3ed6f090>"
      ]
     },
     "metadata": {},
     "output_type": "display_data"
    }
   ],
   "source": [
    "hist = plt.hist(sorted([classifier.prob_classify(x[0]).prob('related') for x in test_set]), bins=25)"
   ]
  },
  {
   "cell_type": "code",
   "execution_count": 403,
   "metadata": {
    "collapsed": false
   },
   "outputs": [
    {
     "data": {
      "text/plain": [
       "[u'Said one member of the #UCCShooting  community: \"I don\\'t want to know the names yet. I\\'m not ready.\" http://t.co/VynqLDuGV4',\n",
       " u'From everybody in the roseburg area, please stop saying his name #stopsayinghisname',\n",
       " u'Community members say anger has been remarkably absent- so far - following #UCCShooting. That may change when IDs are released.',\n",
       " u'For some context: #ucc has a large nursing school, enrolls many veterans, Guard members. #UCCShooting',\n",
       " u'Hundreds gather for a vigil in Roseburg, Ore., after the #UCCschooting @Salem_Statesman http://t.co/Kz1STBHsFd']"
      ]
     },
     "execution_count": 403,
     "metadata": {},
     "output_type": "execute_result"
    }
   ],
   "source": [
    "probs = [(classifier.prob_classify(relevance_features(doc)).prob('related'), doc) for doc in docsTest]\n",
    "probs.sort(key=lambda x: x[0], reverse=True)\n",
    "[d['text'] for p,d in probs[:5]]"
   ]
  },
  {
   "cell_type": "code",
   "execution_count": 404,
   "metadata": {
    "collapsed": false
   },
   "outputs": [],
   "source": [
    "import webbrowser\n",
    "# Top 5 results\n",
    "x = [webbrowser.open('https://twitter.com/statuses/'+d['id_str']) for p,d in probs[:5]]"
   ]
  },
  {
   "cell_type": "code",
   "execution_count": 394,
   "metadata": {
    "collapsed": false
   },
   "outputs": [],
   "source": [
    "# Bottom 5 results\n",
    "x = [webbrowser.open('https://twitter.com/statuses/'+d['id_str']) for p,d in probs[-5:]]"
   ]
  },
  {
   "cell_type": "markdown",
   "metadata": {},
   "source": [
    "## Apply our classifier to the Pope D.C. visit dataset"
   ]
  },
  {
   "cell_type": "code",
   "execution_count": 405,
   "metadata": {
    "collapsed": false
   },
   "outputs": [
    {
     "data": {
      "image/png": "[encoded data removed]",
      "text/plain": [
       "<matplotlib.figure.Figure at 0x3ffdd370>"
      ]
     },
     "metadata": {},
     "output_type": "display_data"
    }
   ],
   "source": [
    "hist = plt.hist(sorted([classifier.prob_classify(relevance_features(doc)).prob('related') for doc in docsPope]), bins=25)"
   ]
  },
  {
   "cell_type": "code",
   "execution_count": 406,
   "metadata": {
    "collapsed": false
   },
   "outputs": [
    {
     "data": {
      "text/plain": [
       "[(u'#popeindc', 1907),\n",
       " (u'@', 1491),\n",
       " (u\"i'm\", 1180),\n",
       " (u'pope', 1091),\n",
       " (u'like', 970),\n",
       " (u'&amp;', 816),\n",
       " (u'get', 752),\n",
       " (u\"don't\", 610),\n",
       " (u\"it's\", 609),\n",
       " (u'-', 601)]"
      ]
     },
     "execution_count": 406,
     "metadata": {},
     "output_type": "execute_result"
    }
   ],
   "source": [
    "words = [w.lower() for w in itertools.chain(*[doc['text'].split() for doc in docsPope]) if w.lower() not in stopwords]\n",
    "fdist = nltk.FreqDist(words)\n",
    "fdist.most_common(10)"
   ]
  },
  {
   "cell_type": "code",
   "execution_count": 407,
   "metadata": {
    "collapsed": false
   },
   "outputs": [
    {
     "data": {
      "text/plain": [
       "[u\"I can't hear Austin call Steve a boy ever again please #BB17\",\n",
       " u\"Torian is a dumb ass .. they shouldn't win for this #Twinning\",\n",
       " u'1. #Empire\\n2. #BB17Finale\\n3. #blackish\\n4. #Rosewood\\n5. #Nashville\\n\\n2015/9/23 21:36 CDT #trndnl http://t.co/IvleifByXY',\n",
       " u'Just like Congress @ the Nats game tonight #Mannywon http://t.co/3K9iqD72f8',\n",
       " u\"My view from west front of Nat'l Basilica as @Pontifex arrived for Holy Mass! #PopeinUS #popeindc #semlife http://t.co/yZXZKsjzDX\"]"
      ]
     },
     "execution_count": 407,
     "metadata": {},
     "output_type": "execute_result"
    }
   ],
   "source": [
    "probs = [(classifier.prob_classify(relevance_features(doc)).prob('related'), doc) for doc in docsPope]\n",
    "probs.sort(key=lambda x: x[0], reverse=True)\n",
    "[d['text'] for p,d in probs[:5]]"
   ]
  },
  {
   "cell_type": "code",
   "execution_count": 408,
   "metadata": {
    "collapsed": false
   },
   "outputs": [
    {
     "data": {
      "text/plain": [
       "[u\"My view from west front of Nat'l Basilica as @Pontifex arrived for Holy Mass! #PopeinUS #popeindc #semlife http://t.co/yZXZKsjzDX\",\n",
       " u'Waiting for Francis. Interfaith Vigil near Capitol til morning. #PopeInDC #followfrancis http://t.co/KcLQ6qpbyM',\n",
       " u'My wife was up close and personal!  #popefrancis #dc #bestfriends @ Busboys &amp; Poets. 5th and K St https://t.co/srKDstwySz',\n",
       " u'#ForwardMarch with #PopeInDC is enough to inspire any gym adventure. #MassOnTheElliptical']"
      ]
     },
     "execution_count": 408,
     "metadata": {},
     "output_type": "execute_result"
    }
   ],
   "source": [
    "[d['text'] for p,d in probs[:20] if 'pope' in d['text'].lower()]"
   ]
  },
  {
   "cell_type": "code",
   "execution_count": 411,
   "metadata": {
    "collapsed": true
   },
   "outputs": [],
   "source": [
    "# Top few results\n",
    "x = [webbrowser.open('https://twitter.com/statuses/'+d['id_str']) for p,d in probs[:15] if 'pope' in d['text'].lower()]"
   ]
  },
  {
   "cell_type": "code",
   "execution_count": null,
   "metadata": {
    "collapsed": true
   },
   "outputs": [],
   "source": []
  }
 ],
 "metadata": {
  "kernelspec": {
   "display_name": "Python 2",
   "language": "python",
   "name": "python2"
  },
  "language_info": {
   "codemirror_mode": {
    "name": "ipython",
    "version": 2
   },
   "file_extension": ".py",
   "mimetype": "text/x-python",
   "name": "python",
   "nbconvert_exporter": "python",
   "pygments_lexer": "ipython2",
   "version": "2.7.10"
  }
 },
 "nbformat": 4,
 "nbformat_minor": 0
}
