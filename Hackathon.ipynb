{
 "cells": [
  {
   "cell_type": "code",
   "execution_count": 27,
   "metadata": {
    "collapsed": true
   },
   "outputs": [],
   "source": [
    "import json, gzip, datetime, matplotlib.pyplot as plt\n",
    "%matplotlib inline"
   ]
  },
  {
   "cell_type": "code",
   "execution_count": 34,
   "metadata": {
    "collapsed": true
   },
   "outputs": [],
   "source": [
    "#docs = [json.loads(line) for line in gzip.open('data/oregon-shooting.json.gz')]\n",
    "docs = [json.loads(line) for line in gzip.open('data/pope-visit-dc.json.gz')]"
   ]
  },
  {
   "cell_type": "code",
   "execution_count": 38,
   "metadata": {
    "collapsed": false
   },
   "outputs": [
    {
     "data": {
      "text/plain": [
       "(array([ 1172.,  1286.,  1105.,  1261.,  1245.,  1507.,  1524.,  1221.,\n",
       "         1105.,   696.,   345.,   230.,   187.,   162.,   208.,   414.,\n",
       "          784.,  1046.,  1599.,  1441.,  1453.,  1353.,  1132.,  1152.]),\n",
       " array([ 735863.62500992,  735863.666676  ,  735863.70834209,\n",
       "         735863.75000817,  735863.79167426,  735863.83334034,\n",
       "         735863.87500642,  735863.91667251,  735863.95833859,\n",
       "         735864.00000468,  735864.04167076,  735864.08333684,\n",
       "         735864.12500293,  735864.16666901,  735864.2083351 ,\n",
       "         735864.25000118,  735864.29166726,  735864.33333335,\n",
       "         735864.37499943,  735864.41666552,  735864.4583316 ,\n",
       "         735864.49999769,  735864.54166377,  735864.58332985,\n",
       "         735864.62499594]),\n",
       " <a list of 24 Patch objects>)"
      ]
     },
     "execution_count": 38,
     "metadata": {},
     "output_type": "execute_result"
    },
    {
     "data": {
      "image/png": "[encoded data removed]",
      "text/plain": [
       "<matplotlib.figure.Figure at 0x220ba390>"
      ]
     },
     "metadata": {},
     "output_type": "display_data"
    }
   ],
   "source": [
    "plt.title('Posts per hour')\n",
    "plt.hist([datetime.datetime.fromtimestamp(long(doc['timestamp_ms'])/1000.0) for doc in docs], bins=24)"
   ]
  },
  {
   "cell_type": "code",
   "execution_count": 26,
   "metadata": {
    "collapsed": false
   },
   "outputs": [],
   "source": [
    "matplotlib.dates.num2date?"
   ]
  }
 ],
 "metadata": {
  "kernelspec": {
   "display_name": "Python 2",
   "language": "python",
   "name": "python2"
  },
  "language_info": {
   "codemirror_mode": {
    "name": "ipython",
    "version": 2
   },
   "file_extension": ".py",
   "mimetype": "text/x-python",
   "name": "python",
   "nbconvert_exporter": "python",
   "pygments_lexer": "ipython2",
   "version": "2.7.10"
  }
 },
 "nbformat": 4,
 "nbformat_minor": 0
}
